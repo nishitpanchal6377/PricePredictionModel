{
 "cells": [
  {
   "cell_type": "code",
   "execution_count": 18,
   "id": "64bb1905-251e-4c2f-b6b1-7ecebe676f06",
   "metadata": {
    "scrolled": true
   },
   "outputs": [],
   "source": [
    "# For Data Loading And Manipulation\n",
    "import pandas as pd\n",
    "# For Data Visualisation \n",
    "import matplotlib.pyplot as plt\n",
    "import seaborn as sns\n",
    "# For Converting Object To Numerical Data Type\n",
    "from sklearn.preprocessing import LabelEncoder\n",
    "# To Scale The Data So That It was Not Dominated By a Particular Feature Of Data\n",
    "from sklearn.preprocessing import StandardScaler\n",
    "# To Divide The Data Into Two Parts Training and Testing\n",
    "from sklearn.model_selection import train_test_split\n",
    "# Different Algorithms for Prediction\n",
    "from sklearn.linear_model import LinearRegression , Lasso , Ridge , ElasticNet\n",
    "from sklearn.tree import DecisionTreeRegressor\n",
    "from sklearn.svm import SVR\n",
    "from sklearn.neighbors import KNeighborsRegressor\n",
    "from sklearn.ensemble import RandomForestRegressor"
   ]
  },
  {
   "cell_type": "code",
   "execution_count": 19,
   "id": "f0d88c6c-0b7b-4886-b071-389f294e8b53",
   "metadata": {},
   "outputs": [],
   "source": [
    "#Loading the data set\n",
    "mydata=pd.read_csv('cardekho_data.csv')"
   ]
  },
  {
   "cell_type": "code",
   "execution_count": 20,
   "id": "1f69b24c-a613-4f68-b261-0a9dc404e00d",
   "metadata": {},
   "outputs": [
    {
     "data": {
      "text/html": [
       "<div>\n",
       "<style scoped>\n",
       "    .dataframe tbody tr th:only-of-type {\n",
       "        vertical-align: middle;\n",
       "    }\n",
       "\n",
       "    .dataframe tbody tr th {\n",
       "        vertical-align: top;\n",
       "    }\n",
       "\n",
       "    .dataframe thead th {\n",
       "        text-align: right;\n",
       "    }\n",
       "</style>\n",
       "<table border=\"1\" class=\"dataframe\">\n",
       "  <thead>\n",
       "    <tr style=\"text-align: right;\">\n",
       "      <th></th>\n",
       "      <th>Car_Name</th>\n",
       "      <th>Year</th>\n",
       "      <th>Present_Price</th>\n",
       "      <th>Kms_Driven</th>\n",
       "      <th>Fuel_Type</th>\n",
       "      <th>Seller_Type</th>\n",
       "      <th>Transmission</th>\n",
       "      <th>Owner</th>\n",
       "      <th>Selling_Price</th>\n",
       "    </tr>\n",
       "  </thead>\n",
       "  <tbody>\n",
       "    <tr>\n",
       "      <th>0</th>\n",
       "      <td>ritz</td>\n",
       "      <td>2014</td>\n",
       "      <td>5.59</td>\n",
       "      <td>27000</td>\n",
       "      <td>Petrol</td>\n",
       "      <td>Dealer</td>\n",
       "      <td>Manual</td>\n",
       "      <td>0</td>\n",
       "      <td>3.35</td>\n",
       "    </tr>\n",
       "    <tr>\n",
       "      <th>1</th>\n",
       "      <td>sx4</td>\n",
       "      <td>2013</td>\n",
       "      <td>9.54</td>\n",
       "      <td>43000</td>\n",
       "      <td>Diesel</td>\n",
       "      <td>Dealer</td>\n",
       "      <td>Manual</td>\n",
       "      <td>0</td>\n",
       "      <td>4.75</td>\n",
       "    </tr>\n",
       "    <tr>\n",
       "      <th>2</th>\n",
       "      <td>ciaz</td>\n",
       "      <td>2017</td>\n",
       "      <td>9.85</td>\n",
       "      <td>6900</td>\n",
       "      <td>Petrol</td>\n",
       "      <td>Dealer</td>\n",
       "      <td>Manual</td>\n",
       "      <td>0</td>\n",
       "      <td>7.25</td>\n",
       "    </tr>\n",
       "    <tr>\n",
       "      <th>3</th>\n",
       "      <td>wagon r</td>\n",
       "      <td>2011</td>\n",
       "      <td>4.15</td>\n",
       "      <td>5200</td>\n",
       "      <td>Petrol</td>\n",
       "      <td>Dealer</td>\n",
       "      <td>Manual</td>\n",
       "      <td>0</td>\n",
       "      <td>2.85</td>\n",
       "    </tr>\n",
       "    <tr>\n",
       "      <th>4</th>\n",
       "      <td>swift</td>\n",
       "      <td>2014</td>\n",
       "      <td>6.87</td>\n",
       "      <td>42450</td>\n",
       "      <td>Diesel</td>\n",
       "      <td>Dealer</td>\n",
       "      <td>Manual</td>\n",
       "      <td>0</td>\n",
       "      <td>4.60</td>\n",
       "    </tr>\n",
       "  </tbody>\n",
       "</table>\n",
       "</div>"
      ],
      "text/plain": [
       "  Car_Name  Year  Present_Price  Kms_Driven Fuel_Type Seller_Type  \\\n",
       "0     ritz  2014           5.59       27000    Petrol      Dealer   \n",
       "1      sx4  2013           9.54       43000    Diesel      Dealer   \n",
       "2     ciaz  2017           9.85        6900    Petrol      Dealer   \n",
       "3  wagon r  2011           4.15        5200    Petrol      Dealer   \n",
       "4    swift  2014           6.87       42450    Diesel      Dealer   \n",
       "\n",
       "  Transmission  Owner  Selling_Price  \n",
       "0       Manual      0           3.35  \n",
       "1       Manual      0           4.75  \n",
       "2       Manual      0           7.25  \n",
       "3       Manual      0           2.85  \n",
       "4       Manual      0           4.60  "
      ]
     },
     "execution_count": 20,
     "metadata": {},
     "output_type": "execute_result"
    }
   ],
   "source": [
    "#Showing the data set\n",
    "mydata.head()"
   ]
  },
  {
   "cell_type": "code",
   "execution_count": 21,
   "id": "7493d00a-9acd-4910-90fc-e5719c0b16c8",
   "metadata": {},
   "outputs": [
    {
     "name": "stdout",
     "output_type": "stream",
     "text": [
      "<class 'pandas.core.frame.DataFrame'>\n",
      "RangeIndex: 301 entries, 0 to 300\n",
      "Data columns (total 9 columns):\n",
      " #   Column         Non-Null Count  Dtype  \n",
      "---  ------         --------------  -----  \n",
      " 0   Car_Name       301 non-null    object \n",
      " 1   Year           301 non-null    int64  \n",
      " 2   Present_Price  301 non-null    float64\n",
      " 3   Kms_Driven     301 non-null    int64  \n",
      " 4   Fuel_Type      301 non-null    object \n",
      " 5   Seller_Type    301 non-null    object \n",
      " 6   Transmission   301 non-null    object \n",
      " 7   Owner          301 non-null    int64  \n",
      " 8   Selling_Price  301 non-null    float64\n",
      "dtypes: float64(2), int64(3), object(4)\n",
      "memory usage: 21.3+ KB\n"
     ]
    }
   ],
   "source": [
    "#Checking the type of data\n",
    "mydata.info()"
   ]
  },
  {
   "cell_type": "code",
   "execution_count": 22,
   "id": "a06a9a00-9555-4f0f-ae2e-e9674550e8df",
   "metadata": {},
   "outputs": [
    {
     "data": {
      "text/plain": [
       "Car_Name         0\n",
       "Year             0\n",
       "Present_Price    0\n",
       "Kms_Driven       0\n",
       "Fuel_Type        0\n",
       "Seller_Type      0\n",
       "Transmission     0\n",
       "Owner            0\n",
       "Selling_Price    0\n",
       "dtype: int64"
      ]
     },
     "execution_count": 22,
     "metadata": {},
     "output_type": "execute_result"
    }
   ],
   "source": [
    "#Checking the data if there is any missing values\n",
    "mydata.isnull().sum()"
   ]
  },
  {
   "cell_type": "code",
   "execution_count": 23,
   "id": "76cb16f9-4cd4-4d76-95fc-dad339881ae3",
   "metadata": {},
   "outputs": [
    {
     "data": {
      "image/png": "[encoded data removed]",
      "text/plain": [
       "<Figure size 1250x1250 with 30 Axes>"
      ]
     },
     "metadata": {},
     "output_type": "display_data"
    }
   ],
   "source": [
    "#Graphical analysis\n",
    "sns.pairplot(mydata)\n",
    "plt.show()"
   ]
  },
  {
   "cell_type": "code",
   "execution_count": 141,
   "id": "471a438d-8af8-4c45-a01a-1c39d3cef471",
   "metadata": {},
   "outputs": [],
   "source": [
    "#Converting the object data into numerical data\n",
    "Car_Name_le=LabelEncoder()\n",
    "mydata['Car_Name']=Car_Name_le.fit_transform(mydata[\"Car_Name\"])"
   ]
  },
  {
   "cell_type": "code",
   "execution_count": 142,
   "id": "7d27941b-f5e7-49e4-b416-a9bf8f19433d",
   "metadata": {},
   "outputs": [],
   "source": [
    "#Converting the object data into numerical data\n",
    "Fuel_Type_le=LabelEncoder()\n",
    "mydata['Fuel_Type']=Fuel_Type_le.fit_transform(mydata[\"Fuel_Type\"])"
   ]
  },
  {
   "cell_type": "code",
   "execution_count": 143,
   "id": "ec998d24-8f8a-426a-a63e-b38e99bdcef7",
   "metadata": {},
   "outputs": [],
   "source": [
    "#Converting the object data into numerical data\n",
    "Seller_Type_le=LabelEncoder()\n",
    "mydata['Seller_Type']=Seller_Type_le.fit_transform(mydata[\"Seller_Type\"])"
   ]
  },
  {
   "cell_type": "code",
   "execution_count": 144,
   "id": "8c6dbc20-e9be-4eba-927b-9aa973cb90e9",
   "metadata": {},
   "outputs": [],
   "source": [
    "#Converting the object data into numerical data\n",
    "Transmission_le=LabelEncoder()\n",
    "mydata['Transmission']=Transmission_le.fit_transform(mydata[\"Transmission\"])"
   ]
  },
  {
   "cell_type": "code",
   "execution_count": 145,
   "id": "27734d69-0183-4172-9f41-18b2a0488faa",
   "metadata": {},
   "outputs": [
    {
     "data": {
      "text/html": [
       "<div>\n",
       "<style scoped>\n",
       "    .dataframe tbody tr th:only-of-type {\n",
       "        vertical-align: middle;\n",
       "    }\n",
       "\n",
       "    .dataframe tbody tr th {\n",
       "        vertical-align: top;\n",
       "    }\n",
       "\n",
       "    .dataframe thead th {\n",
       "        text-align: right;\n",
       "    }\n",
       "</style>\n",
       "<table border=\"1\" class=\"dataframe\">\n",
       "  <thead>\n",
       "    <tr style=\"text-align: right;\">\n",
       "      <th></th>\n",
       "      <th>Car_Name</th>\n",
       "      <th>Year</th>\n",
       "      <th>Present_Price</th>\n",
       "      <th>Kms_Driven</th>\n",
       "      <th>Fuel_Type</th>\n",
       "      <th>Seller_Type</th>\n",
       "      <th>Transmission</th>\n",
       "      <th>Owner</th>\n",
       "      <th>Selling_Price</th>\n",
       "    </tr>\n",
       "  </thead>\n",
       "  <tbody>\n",
       "    <tr>\n",
       "      <th>0</th>\n",
       "      <td>90</td>\n",
       "      <td>2014</td>\n",
       "      <td>5.59</td>\n",
       "      <td>27000</td>\n",
       "      <td>2</td>\n",
       "      <td>0</td>\n",
       "      <td>1</td>\n",
       "      <td>0</td>\n",
       "      <td>3.35</td>\n",
       "    </tr>\n",
       "    <tr>\n",
       "      <th>1</th>\n",
       "      <td>93</td>\n",
       "      <td>2013</td>\n",
       "      <td>9.54</td>\n",
       "      <td>43000</td>\n",
       "      <td>1</td>\n",
       "      <td>0</td>\n",
       "      <td>1</td>\n",
       "      <td>0</td>\n",
       "      <td>4.75</td>\n",
       "    </tr>\n",
       "    <tr>\n",
       "      <th>2</th>\n",
       "      <td>68</td>\n",
       "      <td>2017</td>\n",
       "      <td>9.85</td>\n",
       "      <td>6900</td>\n",
       "      <td>2</td>\n",
       "      <td>0</td>\n",
       "      <td>1</td>\n",
       "      <td>0</td>\n",
       "      <td>7.25</td>\n",
       "    </tr>\n",
       "    <tr>\n",
       "      <th>3</th>\n",
       "      <td>96</td>\n",
       "      <td>2011</td>\n",
       "      <td>4.15</td>\n",
       "      <td>5200</td>\n",
       "      <td>2</td>\n",
       "      <td>0</td>\n",
       "      <td>1</td>\n",
       "      <td>0</td>\n",
       "      <td>2.85</td>\n",
       "    </tr>\n",
       "    <tr>\n",
       "      <th>4</th>\n",
       "      <td>92</td>\n",
       "      <td>2014</td>\n",
       "      <td>6.87</td>\n",
       "      <td>42450</td>\n",
       "      <td>1</td>\n",
       "      <td>0</td>\n",
       "      <td>1</td>\n",
       "      <td>0</td>\n",
       "      <td>4.60</td>\n",
       "    </tr>\n",
       "  </tbody>\n",
       "</table>\n",
       "</div>"
      ],
      "text/plain": [
       "   Car_Name  Year  Present_Price  Kms_Driven  Fuel_Type  Seller_Type  \\\n",
       "0        90  2014           5.59       27000          2            0   \n",
       "1        93  2013           9.54       43000          1            0   \n",
       "2        68  2017           9.85        6900          2            0   \n",
       "3        96  2011           4.15        5200          2            0   \n",
       "4        92  2014           6.87       42450          1            0   \n",
       "\n",
       "   Transmission  Owner  Selling_Price  \n",
       "0             1      0           3.35  \n",
       "1             1      0           4.75  \n",
       "2             1      0           7.25  \n",
       "3             1      0           2.85  \n",
       "4             1      0           4.60  "
      ]
     },
     "execution_count": 145,
     "metadata": {},
     "output_type": "execute_result"
    }
   ],
   "source": [
    "#Checking the update\n",
    "mydata.head()"
   ]
  },
  {
   "cell_type": "code",
   "execution_count": null,
   "id": "e04fd353-e201-416f-9cf1-f4e825a6be1d",
   "metadata": {},
   "outputs": [],
   "source": []
  },
  {
   "cell_type": "code",
   "execution_count": 146,
   "id": "fc9ffda6-1844-41a7-9b08-7eede1d0c43b",
   "metadata": {},
   "outputs": [],
   "source": [
    "#Separating input data\n",
    "input_data=mydata.iloc[:,:-1]"
   ]
  },
  {
   "cell_type": "code",
   "execution_count": 147,
   "id": "af54718c-cddf-43a0-a144-f0221bc0f600",
   "metadata": {},
   "outputs": [],
   "source": [
    "#Separating output data\n",
    "output_data=mydata[\"Selling_Price\"]"
   ]
  },
  {
   "cell_type": "code",
   "execution_count": null,
   "id": "f82322d1-5f52-4f8e-91f8-037289600dd4",
   "metadata": {},
   "outputs": [],
   "source": []
  },
  {
   "cell_type": "code",
   "execution_count": null,
   "id": "e89075b2-5507-4174-9a62-1c737cc266de",
   "metadata": {},
   "outputs": [],
   "source": []
  },
  {
   "cell_type": "code",
   "execution_count": 148,
   "id": "9d7aca5a-24c2-4107-b0cf-3d595a1206e5",
   "metadata": {},
   "outputs": [],
   "source": [
    "#Scaling the data so the model is not dominated by a particular feature data\n",
    "ss=StandardScaler()"
   ]
  },
  {
   "cell_type": "code",
   "execution_count": 149,
   "id": "f4413a82-f75f-405f-a66c-ef2c0fcc744c",
   "metadata": {},
   "outputs": [],
   "source": [
    "input_data=pd.DataFrame(ss.fit_transform(input_data),columns=input_data.columns)"
   ]
  },
  {
   "cell_type": "code",
   "execution_count": null,
   "id": "09e72824-4677-4bd9-bc0c-dd892565d497",
   "metadata": {},
   "outputs": [],
   "source": []
  },
  {
   "cell_type": "code",
   "execution_count": null,
   "id": "a9c39561-c805-4e77-9c4e-4e9e3a5a2692",
   "metadata": {},
   "outputs": [],
   "source": []
  },
  {
   "cell_type": "code",
   "execution_count": 150,
   "id": "b39a19ed-3afd-4c78-a72b-4d612b25dd0d",
   "metadata": {},
   "outputs": [],
   "source": [
    "#Spliting the data into training and testing data set\n",
    "x_train , x_test , y_train , y_test = train_test_split(input_data,output_data,test_size=0.2,random_state=42)"
   ]
  },
  {
   "cell_type": "code",
   "execution_count": null,
   "id": "33bb2e07-daf3-4fda-aa20-2562cf4397b3",
   "metadata": {},
   "outputs": [],
   "source": []
  },
  {
   "cell_type": "code",
   "execution_count": null,
   "id": "74cf440a-f374-4f2d-88cd-8b06bf948f2f",
   "metadata": {},
   "outputs": [],
   "source": []
  },
  {
   "cell_type": "code",
   "execution_count": 151,
   "id": "57096784-3b13-4235-9483-2c2f4c3fc464",
   "metadata": {},
   "outputs": [
    {
     "data": {
      "text/plain": [
       "84.65539666857805"
      ]
     },
     "execution_count": 151,
     "metadata": {},
     "output_type": "execute_result"
    }
   ],
   "source": [
    "#Applying Linear regression \n",
    "lr=LinearRegression()\n",
    "lr.fit(x_train,y_train)\n",
    "lr.score(x_test,y_test)*100"
   ]
  },
  {
   "cell_type": "code",
   "execution_count": 152,
   "id": "4c2d05ba-de7d-4c4b-90c1-0c49ac912a7a",
   "metadata": {},
   "outputs": [
    {
     "data": {
      "text/plain": [
       "84.07873180959541"
      ]
     },
     "execution_count": 152,
     "metadata": {},
     "output_type": "execute_result"
    }
   ],
   "source": [
    "#Applying Lasso regression \n",
    "lr2=Lasso(alpha=.1)\n",
    "lr2.fit(x_train,y_train)\n",
    "lr2.score(x_test,y_test)*100"
   ]
  },
  {
   "cell_type": "code",
   "execution_count": 153,
   "id": "7a3c91fd-3b90-47b5-a68f-f8941289d8d8",
   "metadata": {},
   "outputs": [
    {
     "data": {
      "text/plain": [
       "84.65106312339066"
      ]
     },
     "execution_count": 153,
     "metadata": {},
     "output_type": "execute_result"
    }
   ],
   "source": [
    "#Applying Ridge regression \n",
    "lr3=Ridge(alpha=.1)\n",
    "lr3.fit(x_train,y_train)\n",
    "lr3.score(x_test,y_test)*100"
   ]
  },
  {
   "cell_type": "code",
   "execution_count": 154,
   "id": "5a249211-0982-47e0-a72f-ff72a4ede722",
   "metadata": {},
   "outputs": [
    {
     "data": {
      "text/plain": [
       "83.75582135434175"
      ]
     },
     "execution_count": 154,
     "metadata": {},
     "output_type": "execute_result"
    }
   ],
   "source": [
    "#Applying ElasticNet regression \n",
    "lr4=ElasticNet(alpha=.1)\n",
    "lr4.fit(x_train,y_train)\n",
    "lr4.score(x_test,y_test)*100"
   ]
  },
  {
   "cell_type": "code",
   "execution_count": 155,
   "id": "7a1a0bcf-6656-4ca1-b80f-60a8a914dc94",
   "metadata": {},
   "outputs": [
    {
     "data": {
      "text/plain": [
       "96.15642740999935"
      ]
     },
     "execution_count": 155,
     "metadata": {},
     "output_type": "execute_result"
    }
   ],
   "source": [
    "#Applying DecisionTreeRegressor regression \n",
    "dt=DecisionTreeRegressor(max_depth=10)\n",
    "dt.fit(x_train,y_train)\n",
    "dt.score(x_test,y_test)*100"
   ]
  },
  {
   "cell_type": "code",
   "execution_count": 156,
   "id": "973e79a0-5639-4317-a16f-e38a89d5cd35",
   "metadata": {},
   "outputs": [
    {
     "data": {
      "text/plain": [
       "96.35055012922413"
      ]
     },
     "execution_count": 156,
     "metadata": {},
     "output_type": "execute_result"
    }
   ],
   "source": [
    "#Applying RandomForestRegressor regression \n",
    "rf=RandomForestRegressor(n_estimators=50)\n",
    "rf.fit(x_train,y_train)\n",
    "rf.score(x_test,y_test)*100"
   ]
  },
  {
   "cell_type": "code",
   "execution_count": 157,
   "id": "b91eb945-d690-4bad-b2f0-837e90e4435f",
   "metadata": {},
   "outputs": [
    {
     "data": {
      "text/plain": [
       "78.48466914602926"
      ]
     },
     "execution_count": 157,
     "metadata": {},
     "output_type": "execute_result"
    }
   ],
   "source": [
    "#Applying SVR regression \n",
    "sv=SVR()\n",
    "sv.fit(x_train,y_train)\n",
    "sv.score(x_test,y_test)*100"
   ]
  },
  {
   "cell_type": "code",
   "execution_count": 158,
   "id": "89e699ea-24bf-4494-8b17-2ae4e5c915b7",
   "metadata": {},
   "outputs": [
    {
     "data": {
      "text/plain": [
       "93.25859819138705"
      ]
     },
     "execution_count": 158,
     "metadata": {},
     "output_type": "execute_result"
    }
   ],
   "source": [
    "#Applying KNeighborsRegressor regression \n",
    "kn=KNeighborsRegressor(n_neighbors=1)\n",
    "kn.fit(x_train,y_train)\n",
    "kn.score(x_test,y_test)*100"
   ]
  },
  {
   "cell_type": "code",
   "execution_count": null,
   "id": "30869256-9dba-4d2d-987a-b27add29e439",
   "metadata": {},
   "outputs": [],
   "source": []
  },
  {
   "cell_type": "code",
   "execution_count": 159,
   "id": "61aef3a8-2754-4dc3-8cfe-d27b6633026d",
   "metadata": {},
   "outputs": [],
   "source": [
    "#Predicting the Output / Checking the Model"
   ]
  },
  {
   "cell_type": "code",
   "execution_count": 160,
   "id": "0017512c-5de6-40be-810d-aecb33b64649",
   "metadata": {},
   "outputs": [],
   "source": [
    "new_data=pd.DataFrame([[\"rola\",2025,5.59,27000,\"Petrol\",\"Dealer\",\"Manual\",0]],columns=x_train.columns)"
   ]
  },
  {
   "cell_type": "code",
   "execution_count": 161,
   "id": "1c9c29f9-668e-4ace-aeb4-0fc351f88ea9",
   "metadata": {},
   "outputs": [
    {
     "data": {
      "text/html": [
       "<div>\n",
       "<style scoped>\n",
       "    .dataframe tbody tr th:only-of-type {\n",
       "        vertical-align: middle;\n",
       "    }\n",
       "\n",
       "    .dataframe tbody tr th {\n",
       "        vertical-align: top;\n",
       "    }\n",
       "\n",
       "    .dataframe thead th {\n",
       "        text-align: right;\n",
       "    }\n",
       "</style>\n",
       "<table border=\"1\" class=\"dataframe\">\n",
       "  <thead>\n",
       "    <tr style=\"text-align: right;\">\n",
       "      <th></th>\n",
       "      <th>Car_Name</th>\n",
       "      <th>Year</th>\n",
       "      <th>Present_Price</th>\n",
       "      <th>Kms_Driven</th>\n",
       "      <th>Fuel_Type</th>\n",
       "      <th>Seller_Type</th>\n",
       "      <th>Transmission</th>\n",
       "      <th>Owner</th>\n",
       "    </tr>\n",
       "  </thead>\n",
       "  <tbody>\n",
       "    <tr>\n",
       "      <th>0</th>\n",
       "      <td>rola</td>\n",
       "      <td>2025</td>\n",
       "      <td>5.59</td>\n",
       "      <td>27000</td>\n",
       "      <td>Petrol</td>\n",
       "      <td>Dealer</td>\n",
       "      <td>Manual</td>\n",
       "      <td>0</td>\n",
       "    </tr>\n",
       "  </tbody>\n",
       "</table>\n",
       "</div>"
      ],
      "text/plain": [
       "  Car_Name  Year  Present_Price  Kms_Driven Fuel_Type Seller_Type  \\\n",
       "0     rola  2025           5.59       27000    Petrol      Dealer   \n",
       "\n",
       "  Transmission  Owner  \n",
       "0       Manual      0  "
      ]
     },
     "execution_count": 161,
     "metadata": {},
     "output_type": "execute_result"
    }
   ],
   "source": [
    "new_data"
   ]
  },
  {
   "cell_type": "code",
   "execution_count": 162,
   "id": "7685cbb9-be59-4467-b28c-18a33c64ebc9",
   "metadata": {},
   "outputs": [],
   "source": [
    "new_data['Car_Name']=Car_Name_le.fit_transform(new_data[\"Car_Name\"])"
   ]
  },
  {
   "cell_type": "code",
   "execution_count": 163,
   "id": "e5a6130b-e658-4982-b03a-ce179fb01cf4",
   "metadata": {},
   "outputs": [],
   "source": [
    "new_data['Fuel_Type']=Fuel_Type_le.fit_transform(new_data[\"Fuel_Type\"])"
   ]
  },
  {
   "cell_type": "code",
   "execution_count": 164,
   "id": "276b7304-090b-407e-a482-6c6f57da0ae6",
   "metadata": {},
   "outputs": [],
   "source": [
    "new_data['Transmission']=Transmission_le.fit_transform(new_data[\"Transmission\"])"
   ]
  },
  {
   "cell_type": "code",
   "execution_count": 165,
   "id": "09ecf208-0454-4b44-b026-aac2d685a44c",
   "metadata": {},
   "outputs": [],
   "source": [
    "new_data['Seller_Type']=Seller_Type_le.fit_transform(new_data[\"Seller_Type\"])"
   ]
  },
  {
   "cell_type": "code",
   "execution_count": null,
   "id": "6fc31fe6-7323-4a10-89b3-f0f5bbf26f6c",
   "metadata": {},
   "outputs": [],
   "source": []
  },
  {
   "cell_type": "code",
   "execution_count": 166,
   "id": "e293d862-20d8-48e0-8a60-d8b925465867",
   "metadata": {},
   "outputs": [],
   "source": [
    "new_data=pd.DataFrame(ss.transform(new_data),columns=new_data.columns)"
   ]
  },
  {
   "cell_type": "code",
   "execution_count": 167,
   "id": "c7909ffd-2a9a-4b7a-a5b4-1016dcd8b4f2",
   "metadata": {},
   "outputs": [
    {
     "data": {
      "text/html": [
       "<div>\n",
       "<style scoped>\n",
       "    .dataframe tbody tr th:only-of-type {\n",
       "        vertical-align: middle;\n",
       "    }\n",
       "\n",
       "    .dataframe tbody tr th {\n",
       "        vertical-align: top;\n",
       "    }\n",
       "\n",
       "    .dataframe thead th {\n",
       "        text-align: right;\n",
       "    }\n",
       "</style>\n",
       "<table border=\"1\" class=\"dataframe\">\n",
       "  <thead>\n",
       "    <tr style=\"text-align: right;\">\n",
       "      <th></th>\n",
       "      <th>Car_Name</th>\n",
       "      <th>Year</th>\n",
       "      <th>Present_Price</th>\n",
       "      <th>Kms_Driven</th>\n",
       "      <th>Fuel_Type</th>\n",
       "      <th>Seller_Type</th>\n",
       "      <th>Transmission</th>\n",
       "      <th>Owner</th>\n",
       "    </tr>\n",
       "  </thead>\n",
       "  <tbody>\n",
       "    <tr>\n",
       "      <th>0</th>\n",
       "      <td>-2.4508</td>\n",
       "      <td>3.939415</td>\n",
       "      <td>-0.236215</td>\n",
       "      <td>-0.256224</td>\n",
       "      <td>-4.204665</td>\n",
       "      <td>-0.737285</td>\n",
       "      <td>-2.554408</td>\n",
       "      <td>-0.174501</td>\n",
       "    </tr>\n",
       "  </tbody>\n",
       "</table>\n",
       "</div>"
      ],
      "text/plain": [
       "   Car_Name      Year  Present_Price  Kms_Driven  Fuel_Type  Seller_Type  \\\n",
       "0   -2.4508  3.939415      -0.236215   -0.256224  -4.204665    -0.737285   \n",
       "\n",
       "   Transmission     Owner  \n",
       "0     -2.554408 -0.174501  "
      ]
     },
     "execution_count": 167,
     "metadata": {},
     "output_type": "execute_result"
    }
   ],
   "source": [
    "new_data\n"
   ]
  },
  {
   "cell_type": "code",
   "execution_count": 169,
   "id": "ea987d60-21bc-4a63-adc8-6cdd141d9ef3",
   "metadata": {},
   "outputs": [
    {
     "data": {
      "text/plain": [
       "array([2.85])"
      ]
     },
     "execution_count": 169,
     "metadata": {},
     "output_type": "execute_result"
    }
   ],
   "source": [
    "dt.predict(new_data)"
   ]
  },
  {
   "cell_type": "code",
   "execution_count": null,
   "id": "5d988c66-2b59-46db-820c-d739d69fb479",
   "metadata": {},
   "outputs": [],
   "source": []
  },
  {
   "cell_type": "code",
   "execution_count": null,
   "id": "23ec555c-b16d-481d-898e-2e217b256463",
   "metadata": {},
   "outputs": [],
   "source": []
  }
 ],
 "metadata": {
  "kernelspec": {
   "display_name": "Python 3 (ipykernel)",
   "language": "python",
   "name": "python3"
  },
  "language_info": {
   "codemirror_mode": {
    "name": "ipython",
    "version": 3
   },
   "file_extension": ".py",
   "mimetype": "text/x-python",
   "name": "python",
   "nbconvert_exporter": "python",
   "pygments_lexer": "ipython3",
   "version": "3.13.2"
  }
 },
 "nbformat": 4,
 "nbformat_minor": 5
}
